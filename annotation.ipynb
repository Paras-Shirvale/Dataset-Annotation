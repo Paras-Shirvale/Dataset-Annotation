{
 "cells": [
  {
   "cell_type": "code",
   "execution_count": 1,
   "metadata": {},
   "outputs": [],
   "source": [
    "import pandas as pd\n",
    "from sklearn.metrics import cohen_kappa_score"
   ]
  },
  {
   "cell_type": "code",
   "execution_count": null,
   "metadata": {},
   "outputs": [],
   "source": [
    "# Load the CSV file with two annotators\n",
    "df_nlp = pd.read_csv('project-1-at-2025-01-24-01-35-9486786b.csv')\n",
    "df_cv = pd.read_csv('project-4-at-2025-01-24-14-34-8f9de1b9.csv')"
   ]
  },
  {
   "cell_type": "code",
   "execution_count": 7,
   "metadata": {},
   "outputs": [
    {
     "data": {
      "text/html": [
       "<div>\n",
       "<style scoped>\n",
       "    .dataframe tbody tr th:only-of-type {\n",
       "        vertical-align: middle;\n",
       "    }\n",
       "\n",
       "    .dataframe tbody tr th {\n",
       "        vertical-align: top;\n",
       "    }\n",
       "\n",
       "    .dataframe thead th {\n",
       "        text-align: right;\n",
       "    }\n",
       "</style>\n",
       "<table border=\"1\" class=\"dataframe\">\n",
       "  <thead>\n",
       "    <tr style=\"text-align: right;\">\n",
       "      <th></th>\n",
       "      <th>annotation_id</th>\n",
       "      <th>annotator</th>\n",
       "      <th>choice</th>\n",
       "      <th>created_at</th>\n",
       "      <th>id</th>\n",
       "      <th>image</th>\n",
       "      <th>lead_time</th>\n",
       "      <th>updated_at</th>\n",
       "    </tr>\n",
       "  </thead>\n",
       "  <tbody>\n",
       "    <tr>\n",
       "      <th>0</th>\n",
       "      <td>21</td>\n",
       "      <td>1</td>\n",
       "      <td>No-Truck</td>\n",
       "      <td>2025-01-24T08:55:43.848784Z</td>\n",
       "      <td>14420</td>\n",
       "      <td>/data/upload/4/423bddd5-img_340.jpg</td>\n",
       "      <td>15.012</td>\n",
       "      <td>2025-01-24T08:55:43.848784Z</td>\n",
       "    </tr>\n",
       "    <tr>\n",
       "      <th>1</th>\n",
       "      <td>22</td>\n",
       "      <td>1</td>\n",
       "      <td>Truck</td>\n",
       "      <td>2025-01-24T08:56:07.549137Z</td>\n",
       "      <td>14421</td>\n",
       "      <td>/data/upload/4/afe8d17f-img_341.jpg</td>\n",
       "      <td>19.861</td>\n",
       "      <td>2025-01-24T08:56:07.549137Z</td>\n",
       "    </tr>\n",
       "    <tr>\n",
       "      <th>2</th>\n",
       "      <td>23</td>\n",
       "      <td>1</td>\n",
       "      <td>No-Truck</td>\n",
       "      <td>2025-01-24T08:56:36.973922Z</td>\n",
       "      <td>14422</td>\n",
       "      <td>/data/upload/4/aacb5d64-img_342.jpg</td>\n",
       "      <td>26.011</td>\n",
       "      <td>2025-01-24T08:56:36.973922Z</td>\n",
       "    </tr>\n",
       "    <tr>\n",
       "      <th>3</th>\n",
       "      <td>24</td>\n",
       "      <td>1</td>\n",
       "      <td>Truck</td>\n",
       "      <td>2025-01-24T08:56:48.025453Z</td>\n",
       "      <td>14423</td>\n",
       "      <td>/data/upload/4/ef3b3c70-img_343.jpg</td>\n",
       "      <td>7.156</td>\n",
       "      <td>2025-01-24T08:56:48.025453Z</td>\n",
       "    </tr>\n",
       "    <tr>\n",
       "      <th>4</th>\n",
       "      <td>25</td>\n",
       "      <td>1</td>\n",
       "      <td>No-Truck</td>\n",
       "      <td>2025-01-24T08:56:58.997891Z</td>\n",
       "      <td>14424</td>\n",
       "      <td>/data/upload/4/8ee86fa4-img_344.jpg</td>\n",
       "      <td>7.616</td>\n",
       "      <td>2025-01-24T08:56:58.997891Z</td>\n",
       "    </tr>\n",
       "  </tbody>\n",
       "</table>\n",
       "</div>"
      ],
      "text/plain": [
       "   annotation_id  annotator    choice                   created_at     id  \\\n",
       "0             21          1  No-Truck  2025-01-24T08:55:43.848784Z  14420   \n",
       "1             22          1     Truck  2025-01-24T08:56:07.549137Z  14421   \n",
       "2             23          1  No-Truck  2025-01-24T08:56:36.973922Z  14422   \n",
       "3             24          1     Truck  2025-01-24T08:56:48.025453Z  14423   \n",
       "4             25          1  No-Truck  2025-01-24T08:56:58.997891Z  14424   \n",
       "\n",
       "                                 image  lead_time                   updated_at  \n",
       "0  /data/upload/4/423bddd5-img_340.jpg     15.012  2025-01-24T08:55:43.848784Z  \n",
       "1  /data/upload/4/afe8d17f-img_341.jpg     19.861  2025-01-24T08:56:07.549137Z  \n",
       "2  /data/upload/4/aacb5d64-img_342.jpg     26.011  2025-01-24T08:56:36.973922Z  \n",
       "3  /data/upload/4/ef3b3c70-img_343.jpg      7.156  2025-01-24T08:56:48.025453Z  \n",
       "4  /data/upload/4/8ee86fa4-img_344.jpg      7.616  2025-01-24T08:56:58.997891Z  "
      ]
     },
     "execution_count": 7,
     "metadata": {},
     "output_type": "execute_result"
    }
   ],
   "source": [
    "df_cv.head()"
   ]
  },
  {
   "cell_type": "code",
   "execution_count": null,
   "metadata": {},
   "outputs": [],
   "source": []
  }
 ],
 "metadata": {
  "kernelspec": {
   "display_name": "Python 3",
   "language": "python",
   "name": "python3"
  },
  "language_info": {
   "codemirror_mode": {
    "name": "ipython",
    "version": 3
   },
   "file_extension": ".py",
   "mimetype": "text/x-python",
   "name": "python",
   "nbconvert_exporter": "python",
   "pygments_lexer": "ipython3",
   "version": "3.11.4"
  }
 },
 "nbformat": 4,
 "nbformat_minor": 2
}
